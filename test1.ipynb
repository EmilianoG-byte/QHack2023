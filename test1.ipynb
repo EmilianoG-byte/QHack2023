{
 "cells": [
  {
   "cell_type": "code",
   "execution_count": 1,
   "metadata": {},
   "outputs": [],
   "source": [
    "# initialize a graph for the max cut problem\n",
    "import networkx as nx\n",
    "from matplotlib import pyplot as plt\n",
    "import pennylane as qml\n",
    "from pennylane import qaoa\n",
    "\n",
    "nodes = n_qubits = 4\n",
    "edges = 4\n",
    "seed = 121\n",
    "\n",
    "g = nx.gnm_random_graph(nodes, edges, seed=seed)\n",
    "cost_h, mixer_h = qaoa.maxcut(g)\n",
    "depth = 2\n",
    "# define device to be the PennyLane lightning local simulator\n",
    "dev = qml.device(\"lightning.qubit\", wires=n_qubits, shots=1000)\n",
    "\n",
    "\n",
    "def qaoa_layer(gamma, alpha):\n",
    "    qaoa.cost_layer(gamma, cost_h)\n",
    "    qaoa.mixer_layer(alpha, mixer_h)\n",
    "\n",
    "\n",
    "def qaoa_circuit(params, n_qubits, depth):\n",
    "    # initialize all qubits into +X eigenstate.\n",
    "    for w in range(n_qubits):\n",
    "        qml.Hadamard(wires=w)\n",
    "    gammas = params[0]\n",
    "    alphas = params[1]\n",
    "    # stack building blocks for depth times.\n",
    "    qml.layer(qaoa_layer, depth, gammas, alphas)\n",
    "\n",
    "\n",
    "# define ansatz and loss function\n",
    "@qml.qnode(dev)\n",
    "def cost_function(params):\n",
    "    qaoa_circuit(params, n_qubits, depth)\n",
    "    return qml.expval(cost_h)"
   ]
  },
  {
   "cell_type": "code",
   "execution_count": 2,
   "metadata": {},
   "outputs": [
    {
     "name": "stdout",
     "output_type": "stream",
     "text": [
      "Input parameter shape: (2, 2)\n",
      "Loss value: -1.886\n"
     ]
    }
   ],
   "source": [
    "from pennylane import numpy as np\n",
    "\n",
    "# initialize a random parameter tensor with shape (2, depth), scaled\n",
    "# to [-pi, pi)\n",
    "params_curr = 2 * np.pi * (np.random.rand(2, depth) - 0.5)\n",
    "print(\"Input parameter shape:\", params_curr.shape)\n",
    "print(\"Loss value:\", cost_function(params_curr))"
   ]
  },
  {
   "cell_type": "code",
   "execution_count": null,
   "metadata": {},
   "outputs": [],
   "source": []
  }
 ],
 "metadata": {
  "kernelspec": {
   "display_name": "env_quhack",
   "language": "python",
   "name": "env_quhack"
  },
  "language_info": {
   "codemirror_mode": {
    "name": "ipython",
    "version": 3
   },
   "file_extension": ".py",
   "mimetype": "text/x-python",
   "name": "python",
   "nbconvert_exporter": "python",
   "pygments_lexer": "ipython3",
   "version": "3.10.8"
  },
  "orig_nbformat": 4
 },
 "nbformat": 4,
 "nbformat_minor": 2
}
