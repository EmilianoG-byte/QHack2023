{
 "cells": [
  {
   "cell_type": "code",
   "execution_count": null,
   "metadata": {},
   "outputs": [],
   "source": [
    "import pennylane as qml\n",
    "from timeit import default_timer as timer\n",
    "\n",
    "# To set the number of threads used when executing this script,\n",
    "# export the OMP_NUM_THREADS environment variable.\n",
    "\n",
    "# Choose number of qubits (wires) and circuit layers\n",
    "wires = 20\n",
    "layers = 3\n",
    "\n",
    "# Set number of runs for timing averaging\n",
    "num_runs = 5\n",
    "\n",
    "# Instantiate CPU (lightning.qubit) or GPU (lightning.gpu) device\n",
    "dev = qml.device('lightning.gpu', wires=wires)\n",
    "\n",
    "\n",
    "# Create QNode of device and circuit\n",
    "@qml.qnode(dev, diff_method=\"adjoint\")\n",
    "def circuit(parameters):\n",
    "    qml.StronglyEntanglingLayers(weights=parameters, wires=range(wires))\n",
    "    return [qml.expval(qml.PauliZ(i)) for i in range(wires)]\n",
    "\n",
    "# Set trainable parameters for calculating circuit Jacobian\n",
    "shape = qml.StronglyEntanglingLayers.shape(n_layers=layers, n_wires=wires)\n",
    "weights = qml.numpy.random.random(size=shape)\n",
    "\n",
    "# Run, calculate the quantum circuit Jacobian and average the timing results\n",
    "timing = []\n",
    "for t in range(num_runs):\n",
    "    start = timer()\n",
    "    jac = qml.jacobian(circuit)(weights)\n",
    "    end = timer()\n",
    "    timing.append(end - start)\n",
    "\n",
    "print(qml.numpy.mean(timing))"
   ]
  }
 ],
 "metadata": {
  "kernelspec": {
   "display_name": "Python 3",
   "language": "python",
   "name": "python3"
  },
  "language_info": {
   "name": "python",
   "version": "3.11.1"
  },
  "orig_nbformat": 4,
  "vscode": {
   "interpreter": {
    "hash": "0c52feed6a5e003cac606f820272c801c7dfd21d9a5b9caff815ab17cfd47fb8"
   }
  }
 },
 "nbformat": 4,
 "nbformat_minor": 2
}
