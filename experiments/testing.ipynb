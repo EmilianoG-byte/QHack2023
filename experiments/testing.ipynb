{
 "cells": [
  {
   "cell_type": "code",
   "execution_count": 1,
   "metadata": {},
   "outputs": [],
   "source": [
    "import sys\n",
    "sys.path.append('..')\n",
    "from src.tests import calculate_heisenberg_runtime_vs_qubits\n",
    "from src.plots import plot_runtimes_vs_qubits"
   ]
  },
  {
   "attachments": {},
   "cell_type": "markdown",
   "metadata": {},
   "source": [
    "Parameters Definition"
   ]
  },
  {
   "cell_type": "code",
   "execution_count": 2,
   "metadata": {},
   "outputs": [],
   "source": [
    "num_wires_list = range(2, 8)\n",
    "couplings = [1, 2, 1, 0.3]\n",
    "T = 2.5\n",
    "depth = 100\n",
    "\n",
    "noise_probability = 0\n",
    "noise_strength = 0"
   ]
  },
  {
   "attachments": {},
   "cell_type": "markdown",
   "metadata": {},
   "source": [
    "Runtime Calculations"
   ]
  },
  {
   "cell_type": "code",
   "execution_count": 3,
   "metadata": {},
   "outputs": [
    {
     "ename": "NameError",
     "evalue": "name 'time' is not defined",
     "output_type": "error",
     "traceback": [
      "\u001b[1;31m---------------------------------------------------------------------------\u001b[0m",
      "\u001b[1;31mNameError\u001b[0m                                 Traceback (most recent call last)",
      "Cell \u001b[1;32mIn[3], line 1\u001b[0m\n\u001b[1;32m----> 1\u001b[0m runtimes_CPU \u001b[39m=\u001b[39m calculate_heisenberg_runtime_vs_qubits(\u001b[39m\"\u001b[39m\u001b[39mlightning.qubit\u001b[39m\u001b[39m\"\u001b[39m, num_wires_list, couplings, time, depth, noise_probability, noise_strength)\n\u001b[0;32m      2\u001b[0m runtimes_GPU \u001b[39m=\u001b[39m calculate_heisenberg_runtime_vs_qubits(\u001b[39m\"\u001b[39m\u001b[39mlightning.qubit\u001b[39m\u001b[39m\"\u001b[39m, num_wires_list, couplings, time, depth, noise_probability, noise_strength)\n",
      "\u001b[1;31mNameError\u001b[0m: name 'time' is not defined"
     ]
    }
   ],
   "source": [
    "runtimes_CPU = calculate_heisenberg_runtime_vs_qubits(\"lightning.qubit\", num_wires_list, couplings, T, depth, noise_probability, noise_strength)\n",
    "runtimes_GPU = calculate_heisenberg_runtime_vs_qubits(\"lightning.qubit\", num_wires_list, couplings, T, depth, noise_probability, noise_strength)"
   ]
  },
  {
   "attachments": {},
   "cell_type": "markdown",
   "metadata": {},
   "source": [
    "Plots"
   ]
  },
  {
   "cell_type": "code",
   "execution_count": null,
   "metadata": {},
   "outputs": [],
   "source": [
    "plot_runtimes_vs_qubits(runtimes_CPU, runtimes_GPU, depth)"
   ]
  },
  {
   "cell_type": "code",
   "execution_count": null,
   "metadata": {},
   "outputs": [],
   "source": []
  },
  {
   "cell_type": "code",
   "execution_count": null,
   "metadata": {},
   "outputs": [],
   "source": []
  }
 ],
 "metadata": {
  "kernelspec": {
   "display_name": "Python 3",
   "language": "python",
   "name": "python3"
  },
  "language_info": {
   "codemirror_mode": {
    "name": "ipython",
    "version": 3
   },
   "file_extension": ".py",
   "mimetype": "text/x-python",
   "name": "python",
   "nbconvert_exporter": "python",
   "pygments_lexer": "ipython3",
   "version": "3.11.1"
  },
  "orig_nbformat": 4,
  "vscode": {
   "interpreter": {
    "hash": "0c52feed6a5e003cac606f820272c801c7dfd21d9a5b9caff815ab17cfd47fb8"
   }
  }
 },
 "nbformat": 4,
 "nbformat_minor": 2
}
