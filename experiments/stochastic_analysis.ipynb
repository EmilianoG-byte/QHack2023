{
 "cells": [
  {
   "cell_type": "code",
   "execution_count": 2,
   "metadata": {},
   "outputs": [
    {
     "name": "stdout",
     "output_type": "stream",
     "text": [
      "The autoreload extension is already loaded. To reload it, use:\n",
      "  %reload_ext autoreload\n"
     ]
    }
   ],
   "source": [
    "import sys\n",
    "sys.path.append('..')\n",
    "%load_ext autoreload\n",
    "%autoreload 2\n",
    "\n",
    "import pennylane as qml\n",
    "import pennylane.numpy as np\n",
    "\n",
    "from src.tests import calculate_heisenberg_runtime_vs_qubits, calculate_heisenberg_runtime_fidelity_vs_qubits, calculate_sv_samples\n",
    "from src.plots import plot_runtimes_vs_qubits, plot_error_vs_qubits\n",
    "from src.helpers import calculate_error, calculate_avg_dms, calculate_mean, calculate_std_vs_ntraj, calculate_mean_vs_ntraj\n",
    "import matplotlib.pyplot as plt"
   ]
  },
  {
   "cell_type": "code",
   "execution_count": 3,
   "metadata": {},
   "outputs": [],
   "source": [
    "num_wires_list = range(2, 12)\n",
    "couplings = {\"J_xx\": 1, \"J_yy\":2, \"J_zz\": 1, \"h\": 0.3}\n",
    "T = 1\n",
    "depth = 100\n",
    "p = 0.0033"
   ]
  },
  {
   "attachments": {},
   "cell_type": "markdown",
   "metadata": {},
   "source": [
    "# <center> GPU"
   ]
  },
  {
   "cell_type": "code",
   "execution_count": null,
   "metadata": {},
   "outputs": [],
   "source": [
    "# calculation for density matrix:\n",
    "times_dm, ideal_dm = calculate_heisenberg_runtime_fidelity_vs_qubits(\"default.mixed\", num_wires_list, couplings, T=1, depth=100, p=0.0033)"
   ]
  },
  {
   "cell_type": "code",
   "execution_count": null,
   "metadata": {},
   "outputs": [],
   "source": [
    "# NOTE: for CPU\n",
    "times_q_cpu = []\n",
    "states_q_cpu= []\n",
    "for wires  in num_wires_list:\n",
    "    time, states = calculate_sv_samples(couplings, backend='lightning.qubit', T=1, depth=100, wires=5, p=0.0033, samples=1500)\n",
    "    times_q_cpu.append(time)\n",
    "    states_q_cpu.append(states)"
   ]
  },
  {
   "cell_type": "code",
   "execution_count": null,
   "metadata": {},
   "outputs": [],
   "source": [
    "times_q_GPU = []\n",
    "states_q_GPU= []\n",
    "for wires  in num_wires_list:\n",
    "    time, states = calculate_sv_samples(couplings, backend='lightning.gpu', T=1, depth=100, wires=5, p=0.0033, samples=1500)\n",
    "    times_q_GPU.append(time)\n",
    "    states_q_GPU.append(states)"
   ]
  },
  {
   "cell_type": "code",
   "execution_count": null,
   "metadata": {},
   "outputs": [],
   "source": [
    "plt.plot(num_wires_list, times_dm, marker='*', linestyle='--', label=f'density matrix')\n",
    "plt.plot(num_wires_list, times_q_cpu, marker='*', linestyle='--', label=f'CPU')\n",
    "plt.plot(num_wires_list, times_q_cpu, marker='*', linestyle='--', label=f'GPU')\n",
    "plt.xlabel(\"# wires\")\n",
    "plt.ylabel(\"Time\")\n",
    "plt.legend()\n",
    "plt.show()"
   ]
  }
 ],
 "metadata": {
  "kernelspec": {
   "display_name": "app_qc",
   "language": "python",
   "name": "python3"
  },
  "language_info": {
   "codemirror_mode": {
    "name": "ipython",
    "version": 3
   },
   "file_extension": ".py",
   "mimetype": "text/x-python",
   "name": "python",
   "nbconvert_exporter": "python",
   "pygments_lexer": "ipython3",
   "version": "3.10.4"
  },
  "orig_nbformat": 4,
  "vscode": {
   "interpreter": {
    "hash": "0e3523843f37ca99d0dcc63a69cb3738d5ce61a12c8d9fe46bc172358b7503f4"
   }
  }
 },
 "nbformat": 4,
 "nbformat_minor": 2
}
