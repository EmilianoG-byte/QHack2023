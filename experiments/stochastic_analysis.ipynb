{
 "cells": [
  {
   "cell_type": "code",
   "execution_count": 3,
   "metadata": {},
   "outputs": [
    {
     "name": "stdout",
     "output_type": "stream",
     "text": [
      "The autoreload extension is already loaded. To reload it, use:\n",
      "  %reload_ext autoreload\n"
     ]
    }
   ],
   "source": [
    "import sys\n",
    "sys.path.append('..')\n",
    "%load_ext autoreload\n",
    "%autoreload 2\n",
    "\n",
    "import pennylane as qml\n",
    "import pennylane.numpy as np\n",
    "\n",
    "from src.tests import calculate_heisenberg_runtime_vs_qubits, calculate_heisenberg_runtime_fidelity_vs_qubits, calculate_sv_samples\n",
    "from src.plots import plot_runtimes_vs_qubits, plot_error_vs_qubits\n",
    "from src.helpers import calculate_error, calculate_avg_dms, calculate_mean, calculate_std_vs_ntraj, calculate_mean_vs_ntraj\n",
    "import matplotlib.pyplot as plt\n",
    "import pickle"
   ]
  },
  {
   "cell_type": "code",
   "execution_count": 7,
   "metadata": {},
   "outputs": [],
   "source": [
    "num_wires_list = range(2, 6)\n",
    "couplings = {\"J_xx\": 1, \"J_yy\":2, \"J_zz\": 1, \"h\": 0.3}\n",
    "T = 1\n",
    "depth = 100\n",
    "p = 0.0033"
   ]
  },
  {
   "attachments": {},
   "cell_type": "markdown",
   "metadata": {},
   "source": [
    "# <center> GPU"
   ]
  },
  {
   "cell_type": "code",
   "execution_count": 8,
   "metadata": {},
   "outputs": [],
   "source": [
    "# calculation for density matrix:\n",
    "times_dm, ideal_dm = calculate_heisenberg_runtime_fidelity_vs_qubits(\"default.mixed\", num_wires_list, couplings, T=1, depth=100, p=0.0033)"
   ]
  },
  {
   "cell_type": "code",
   "execution_count": 12,
   "metadata": {},
   "outputs": [
    {
     "data": {
      "text/plain": [
       "range(2, 6)"
      ]
     },
     "execution_count": 12,
     "metadata": {},
     "output_type": "execute_result"
    }
   ],
   "source": [
    "num_wires_list"
   ]
  },
  {
   "cell_type": "code",
   "execution_count": 13,
   "metadata": {},
   "outputs": [],
   "source": [
    "# NOTE: for CPU\n",
    "times_q_cpu = []\n",
    "states_q_cpu= []\n",
    "for wires  in num_wires_list:\n",
    "    time, states = calculate_sv_samples(couplings, backend='lightning.qubit', T=1, depth=100, wires=wires, p=0.0033, samples=200)\n",
    "    times_q_cpu.append(time)\n",
    "    states_q_cpu.append(states)"
   ]
  },
  {
   "cell_type": "code",
   "execution_count": null,
   "metadata": {},
   "outputs": [],
   "source": [
    "\n",
    "plt.plot(times_dm)\n",
    "plt.plot(times_q_cpu[:][-1])\n",
    "plt.legen()"
   ]
  },
  {
   "cell_type": "code",
   "execution_count": null,
   "metadata": {},
   "outputs": [],
   "source": [
    "times_q_GPU = []\n",
    "states_q_GPU= []\n",
    "for wires  in num_wires_list:\n",
    "    time, states = calculate_sv_samples(couplings, backend='lightning.gpu', T=1, depth=100, wires=5, p=0.0033, samples=1500)\n",
    "    times_q_GPU.append(time)\n",
    "    states_q_GPU.append(states)"
   ]
  },
  {
   "cell_type": "code",
   "execution_count": null,
   "metadata": {},
   "outputs": [],
   "source": [
    "plt.plot(num_wires_list, times_dm, marker='*', linestyle='--', label=f'density matrix')\n",
    "plt.plot(num_wires_list, times_q_cpu, marker='*', linestyle='--', label=f'CPU')\n",
    "plt.plot(num_wires_list, times_q_cpu, marker='*', linestyle='--', label=f'GPU')\n",
    "plt.xlabel(\"# wires\")\n",
    "plt.ylabel(\"Time\")\n",
    "plt.legend()\n",
    "plt.show()"
   ]
  },
  {
   "cell_type": "code",
   "execution_count": null,
   "metadata": {},
   "outputs": [],
   "source": [
    "# saving all the data\n",
    "files_dic = {'times_q_GPU':times_q_GPU, 'states_q_GPU': states_q_GPU, 'times_q_cpu':times_q_cpu, 'states_q_cpu':states_q_cpu, 'times_dm':times_dm, 'ideal_dm':ideal_dm}\n",
    "for name, value in files_dic.items():\n",
    "    with open(name,mode='wb') as f:\n",
    "        pickle.dump(value, f)\n"
   ]
  },
  {
   "cell_type": "code",
   "execution_count": null,
   "metadata": {},
   "outputs": [],
   "source": [
    "for i, wires in "
   ]
  }
 ],
 "metadata": {
  "kernelspec": {
   "display_name": "app_qc",
   "language": "python",
   "name": "python3"
  },
  "language_info": {
   "codemirror_mode": {
    "name": "ipython",
    "version": 3
   },
   "file_extension": ".py",
   "mimetype": "text/x-python",
   "name": "python",
   "nbconvert_exporter": "python",
   "pygments_lexer": "ipython3",
   "version": "3.10.4"
  },
  "orig_nbformat": 4,
  "vscode": {
   "interpreter": {
    "hash": "0e3523843f37ca99d0dcc63a69cb3738d5ce61a12c8d9fe46bc172358b7503f4"
   }
  }
 },
 "nbformat": 4,
 "nbformat_minor": 2
}
