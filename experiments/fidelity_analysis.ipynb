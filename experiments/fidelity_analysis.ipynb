{
 "cells": [
  {
   "cell_type": "code",
   "execution_count": null,
   "metadata": {},
   "outputs": [],
   "source": [
    "import sys\n",
    "sys.path.append('..')\n",
    "\n",
    "import numpy as np\n",
    "from src.tests import calculate_heisenberg_fidelity_vs_noise\n",
    "from src.plots import plot_fidelities_vs_noise"
   ]
  },
  {
   "attachments": {},
   "cell_type": "markdown",
   "metadata": {},
   "source": [
    "Parameters Definition"
   ]
  },
  {
   "cell_type": "code",
   "execution_count": null,
   "metadata": {},
   "outputs": [],
   "source": [
    "wires = 5\n",
    "couplings = {\"J_xx\": 1, \"J_yy\": 1, \"J_zz\": 1, \"h\": 0.5}\n",
    "T = 1\n",
    "depth = 100\n",
    "\n",
    "noise_probability = T/depth\n",
    "noise_strength_list = np.logspace(-4, 0, 10)"
   ]
  },
  {
   "attachments": {},
   "cell_type": "markdown",
   "metadata": {},
   "source": [
    "Runtime Calculations"
   ]
  },
  {
   "cell_type": "code",
   "execution_count": null,
   "metadata": {},
   "outputs": [],
   "source": [
    "fidelities = calculate_heisenberg_fidelity_vs_noise(\"lightning.qubit\", wires, couplings, T, depth, noise_probability, noise_strength_list)"
   ]
  },
  {
   "attachments": {},
   "cell_type": "markdown",
   "metadata": {},
   "source": [
    "Plots"
   ]
  },
  {
   "cell_type": "code",
   "execution_count": null,
   "metadata": {},
   "outputs": [],
   "source": [
    "plot_fidelities_vs_noise(noise_strength_list, fidelities, depth)"
   ]
  },
  {
   "cell_type": "code",
   "execution_count": null,
   "metadata": {},
   "outputs": [],
   "source": []
  }
 ],
 "metadata": {
  "kernelspec": {
   "display_name": "Python 3",
   "language": "python",
   "name": "python3"
  },
  "language_info": {
   "codemirror_mode": {
    "name": "ipython",
    "version": 3
   },
   "file_extension": ".py",
   "mimetype": "text/x-python",
   "name": "python",
   "nbconvert_exporter": "python",
   "pygments_lexer": "ipython3",
   "version": "3.11.1"
  },
  "orig_nbformat": 4,
  "vscode": {
   "interpreter": {
    "hash": "0c52feed6a5e003cac606f820272c801c7dfd21d9a5b9caff815ab17cfd47fb8"
   }
  }
 },
 "nbformat": 4,
 "nbformat_minor": 2
}
