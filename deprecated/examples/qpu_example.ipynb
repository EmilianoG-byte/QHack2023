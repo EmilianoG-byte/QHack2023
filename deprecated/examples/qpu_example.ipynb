{
 "cells": [
  {
   "cell_type": "code",
   "execution_count": 4,
   "metadata": {},
   "outputs": [
    {
     "ename": "KeyboardInterrupt",
     "evalue": "",
     "output_type": "error",
     "traceback": [
      "\u001b[0;31m---------------------------------------------------------------------------\u001b[0m",
      "\u001b[0;31mKeyboardInterrupt\u001b[0m                         Traceback (most recent call last)",
      "\u001b[1;32m/Users/emiliano_gr/Desktop/Masters/Third_Semester/competitions/quhack/hackathon/QHack2023/experiments/qpu_example.ipynb Cell 1\u001b[0m in \u001b[0;36m<cell line: 1>\u001b[0;34m()\u001b[0m\n\u001b[0;32m----> <a href='vscode-notebook-cell:/Users/emiliano_gr/Desktop/Masters/Third_Semester/competitions/quhack/hackathon/QHack2023/experiments/qpu_example.ipynb#W0sZmlsZQ%3D%3D?line=0'>1</a>\u001b[0m \u001b[39mimport\u001b[39;00m \u001b[39mpennylane\u001b[39;00m \u001b[39mas\u001b[39;00m \u001b[39mqml\u001b[39;00m\n\u001b[1;32m      <a href='vscode-notebook-cell:/Users/emiliano_gr/Desktop/Masters/Third_Semester/competitions/quhack/hackathon/QHack2023/experiments/qpu_example.ipynb#W0sZmlsZQ%3D%3D?line=1'>2</a>\u001b[0m \u001b[39mfrom\u001b[39;00m \u001b[39mtimeit\u001b[39;00m \u001b[39mimport\u001b[39;00m default_timer \u001b[39mas\u001b[39;00m timer\n\u001b[1;32m      <a href='vscode-notebook-cell:/Users/emiliano_gr/Desktop/Masters/Third_Semester/competitions/quhack/hackathon/QHack2023/experiments/qpu_example.ipynb#W0sZmlsZQ%3D%3D?line=3'>4</a>\u001b[0m \u001b[39m# To set the number of threads used when executing this script,\u001b[39;00m\n\u001b[1;32m      <a href='vscode-notebook-cell:/Users/emiliano_gr/Desktop/Masters/Third_Semester/competitions/quhack/hackathon/QHack2023/experiments/qpu_example.ipynb#W0sZmlsZQ%3D%3D?line=4'>5</a>\u001b[0m \u001b[39m# export the OMP_NUM_THREADS environment variable.\u001b[39;00m\n\u001b[1;32m      <a href='vscode-notebook-cell:/Users/emiliano_gr/Desktop/Masters/Third_Semester/competitions/quhack/hackathon/QHack2023/experiments/qpu_example.ipynb#W0sZmlsZQ%3D%3D?line=5'>6</a>\u001b[0m \n\u001b[1;32m      <a href='vscode-notebook-cell:/Users/emiliano_gr/Desktop/Masters/Third_Semester/competitions/quhack/hackathon/QHack2023/experiments/qpu_example.ipynb#W0sZmlsZQ%3D%3D?line=6'>7</a>\u001b[0m \u001b[39m# Choose number of qubits (wires) and circuit layers\u001b[39;00m\n",
      "File \u001b[0;32m~/opt/anaconda3/envs/app_qc/lib/python3.10/site-packages/pennylane/__init__.py:49\u001b[0m, in \u001b[0;36m<module>\u001b[0;34m\u001b[0m\n\u001b[1;32m     47\u001b[0m \u001b[39mfrom\u001b[39;00m \u001b[39mpennylane\u001b[39;00m\u001b[39m.\u001b[39;00m\u001b[39mcircuit_graph\u001b[39;00m \u001b[39mimport\u001b[39;00m CircuitGraph\n\u001b[1;32m     48\u001b[0m \u001b[39mfrom\u001b[39;00m \u001b[39mpennylane\u001b[39;00m\u001b[39m.\u001b[39;00m\u001b[39mconfiguration\u001b[39;00m \u001b[39mimport\u001b[39;00m Configuration\n\u001b[0;32m---> 49\u001b[0m \u001b[39mfrom\u001b[39;00m \u001b[39mpennylane\u001b[39;00m\u001b[39m.\u001b[39;00m\u001b[39mdrawer\u001b[39;00m \u001b[39mimport\u001b[39;00m draw, draw_mpl\n\u001b[1;32m     50\u001b[0m \u001b[39mfrom\u001b[39;00m \u001b[39mpennylane\u001b[39;00m\u001b[39m.\u001b[39;00m\u001b[39mtracker\u001b[39;00m \u001b[39mimport\u001b[39;00m Tracker\n\u001b[1;32m     51\u001b[0m \u001b[39mfrom\u001b[39;00m \u001b[39mpennylane\u001b[39;00m\u001b[39m.\u001b[39;00m\u001b[39mio\u001b[39;00m \u001b[39mimport\u001b[39;00m \u001b[39m*\u001b[39m\n",
      "File \u001b[0;32m~/opt/anaconda3/envs/app_qc/lib/python3.10/site-packages/pennylane/drawer/__init__.py:23\u001b[0m, in \u001b[0;36m<module>\u001b[0;34m\u001b[0m\n\u001b[1;32m      1\u001b[0m \u001b[39m# Copyright 2018-2021 Xanadu Quantum Technologies Inc.\u001b[39;00m\n\u001b[1;32m      2\u001b[0m \n\u001b[1;32m      3\u001b[0m \u001b[39m# Licensed under the Apache License, Version 2.0 (the \"License\");\u001b[39;00m\n\u001b[0;32m   (...)\u001b[0m\n\u001b[1;32m     12\u001b[0m \u001b[39m# See the License for the specific language governing permissions and\u001b[39;00m\n\u001b[1;32m     13\u001b[0m \u001b[39m# limitations under the License.\u001b[39;00m\n\u001b[1;32m     14\u001b[0m \u001b[39m\"\"\"\u001b[39;00m\n\u001b[1;32m     15\u001b[0m \u001b[39mThis module provides the circuit drawing functionality used to display circuits visually.\u001b[39;00m\n\u001b[1;32m     16\u001b[0m \n\u001b[0;32m   (...)\u001b[0m\n\u001b[1;32m     20\u001b[0m \n\u001b[1;32m     21\u001b[0m \u001b[39m\"\"\"\u001b[39;00m\n\u001b[0;32m---> 23\u001b[0m \u001b[39mfrom\u001b[39;00m \u001b[39m.\u001b[39;00m\u001b[39mdraw\u001b[39;00m \u001b[39mimport\u001b[39;00m draw, draw_mpl\n\u001b[1;32m     24\u001b[0m \u001b[39mfrom\u001b[39;00m \u001b[39m.\u001b[39;00m\u001b[39mtape_text\u001b[39;00m \u001b[39mimport\u001b[39;00m tape_text\n\u001b[1;32m     25\u001b[0m \u001b[39mfrom\u001b[39;00m \u001b[39m.\u001b[39;00m\u001b[39mtape_mpl\u001b[39;00m \u001b[39mimport\u001b[39;00m tape_mpl\n",
      "File \u001b[0;32m~/opt/anaconda3/envs/app_qc/lib/python3.10/site-packages/pennylane/drawer/draw.py:21\u001b[0m, in \u001b[0;36m<module>\u001b[0;34m\u001b[0m\n\u001b[1;32m     16\u001b[0m \u001b[39m\"\"\"\u001b[39;00m\n\u001b[1;32m     17\u001b[0m \u001b[39mContains the drawing function.\u001b[39;00m\n\u001b[1;32m     18\u001b[0m \u001b[39m\"\"\"\u001b[39;00m\n\u001b[1;32m     19\u001b[0m \u001b[39mfrom\u001b[39;00m \u001b[39mfunctools\u001b[39;00m \u001b[39mimport\u001b[39;00m wraps\n\u001b[0;32m---> 21\u001b[0m \u001b[39mfrom\u001b[39;00m \u001b[39m.\u001b[39;00m\u001b[39mtape_mpl\u001b[39;00m \u001b[39mimport\u001b[39;00m tape_mpl\n\u001b[1;32m     22\u001b[0m \u001b[39mfrom\u001b[39;00m \u001b[39m.\u001b[39;00m\u001b[39mtape_text\u001b[39;00m \u001b[39mimport\u001b[39;00m tape_text\n\u001b[1;32m     25\u001b[0m \u001b[39mdef\u001b[39;00m \u001b[39mdraw\u001b[39m(\n\u001b[1;32m     26\u001b[0m     qnode,\n\u001b[1;32m     27\u001b[0m     wire_order\u001b[39m=\u001b[39m\u001b[39mNone\u001b[39;00m,\n\u001b[0;32m   (...)\u001b[0m\n\u001b[1;32m     32\u001b[0m     expansion_strategy\u001b[39m=\u001b[39m\u001b[39mNone\u001b[39;00m,\n\u001b[1;32m     33\u001b[0m ):\n",
      "File \u001b[0;32m~/opt/anaconda3/envs/app_qc/lib/python3.10/site-packages/pennylane/drawer/tape_mpl.py:24\u001b[0m, in \u001b[0;36m<module>\u001b[0;34m\u001b[0m\n\u001b[1;32m     22\u001b[0m \u001b[39mfrom\u001b[39;00m \u001b[39mpennylane\u001b[39;00m \u001b[39mimport\u001b[39;00m ops\n\u001b[1;32m     23\u001b[0m \u001b[39mfrom\u001b[39;00m \u001b[39mpennylane\u001b[39;00m\u001b[39m.\u001b[39;00m\u001b[39mwires\u001b[39;00m \u001b[39mimport\u001b[39;00m Wires\n\u001b[0;32m---> 24\u001b[0m \u001b[39mfrom\u001b[39;00m \u001b[39m.\u001b[39;00m\u001b[39mmpldrawer\u001b[39;00m \u001b[39mimport\u001b[39;00m MPLDrawer\n\u001b[1;32m     25\u001b[0m \u001b[39mfrom\u001b[39;00m \u001b[39m.\u001b[39;00m\u001b[39mdrawable_layers\u001b[39;00m \u001b[39mimport\u001b[39;00m drawable_layers\n\u001b[1;32m     26\u001b[0m \u001b[39mfrom\u001b[39;00m \u001b[39m.\u001b[39;00m\u001b[39mutils\u001b[39;00m \u001b[39mimport\u001b[39;00m convert_wire_order\n",
      "File \u001b[0;32m~/opt/anaconda3/envs/app_qc/lib/python3.10/site-packages/pennylane/drawer/mpldrawer.py:21\u001b[0m, in \u001b[0;36m<module>\u001b[0;34m\u001b[0m\n\u001b[1;32m     19\u001b[0m has_mpl \u001b[39m=\u001b[39m \u001b[39mTrue\u001b[39;00m\n\u001b[1;32m     20\u001b[0m \u001b[39mtry\u001b[39;00m:\n\u001b[0;32m---> 21\u001b[0m     \u001b[39mimport\u001b[39;00m \u001b[39mmatplotlib\u001b[39;00m\u001b[39m.\u001b[39;00m\u001b[39mpyplot\u001b[39;00m \u001b[39mas\u001b[39;00m \u001b[39mplt\u001b[39;00m\n\u001b[1;32m     22\u001b[0m     \u001b[39mfrom\u001b[39;00m \u001b[39mmatplotlib\u001b[39;00m \u001b[39mimport\u001b[39;00m patches\n\u001b[1;32m     23\u001b[0m \u001b[39mexcept\u001b[39;00m (\u001b[39mModuleNotFoundError\u001b[39;00m, \u001b[39mImportError\u001b[39;00m) \u001b[39mas\u001b[39;00m e:  \u001b[39m# pragma: no cover\u001b[39;00m\n",
      "File \u001b[0;32m~/opt/anaconda3/envs/app_qc/lib/python3.10/site-packages/matplotlib/pyplot.py:55\u001b[0m, in \u001b[0;36m<module>\u001b[0;34m\u001b[0m\n\u001b[1;32m     53\u001b[0m \u001b[39mimport\u001b[39;00m \u001b[39mmatplotlib\u001b[39;00m\u001b[39m.\u001b[39;00m\u001b[39mimage\u001b[39;00m\n\u001b[1;32m     54\u001b[0m \u001b[39mfrom\u001b[39;00m \u001b[39mmatplotlib\u001b[39;00m \u001b[39mimport\u001b[39;00m _api\n\u001b[0;32m---> 55\u001b[0m \u001b[39mfrom\u001b[39;00m \u001b[39mmatplotlib\u001b[39;00m \u001b[39mimport\u001b[39;00m rcsetup, style\n\u001b[1;32m     56\u001b[0m \u001b[39mfrom\u001b[39;00m \u001b[39mmatplotlib\u001b[39;00m \u001b[39mimport\u001b[39;00m _pylab_helpers, interactive\n\u001b[1;32m     57\u001b[0m \u001b[39mfrom\u001b[39;00m \u001b[39mmatplotlib\u001b[39;00m \u001b[39mimport\u001b[39;00m cbook\n",
      "File \u001b[0;32m~/opt/anaconda3/envs/app_qc/lib/python3.10/site-packages/matplotlib/style/__init__.py:1\u001b[0m, in \u001b[0;36m<module>\u001b[0;34m\u001b[0m\n\u001b[0;32m----> 1\u001b[0m \u001b[39mfrom\u001b[39;00m \u001b[39m.\u001b[39;00m\u001b[39mcore\u001b[39;00m \u001b[39mimport\u001b[39;00m available, context, library, reload_library, use\n\u001b[1;32m      4\u001b[0m __all__ \u001b[39m=\u001b[39m [\u001b[39m\"\u001b[39m\u001b[39mavailable\u001b[39m\u001b[39m\"\u001b[39m, \u001b[39m\"\u001b[39m\u001b[39mcontext\u001b[39m\u001b[39m\"\u001b[39m, \u001b[39m\"\u001b[39m\u001b[39mlibrary\u001b[39m\u001b[39m\"\u001b[39m, \u001b[39m\"\u001b[39m\u001b[39mreload_library\u001b[39m\u001b[39m\"\u001b[39m, \u001b[39m\"\u001b[39m\u001b[39muse\u001b[39m\u001b[39m\"\u001b[39m]\n",
      "File \u001b[0;32m~/opt/anaconda3/envs/app_qc/lib/python3.10/site-packages/matplotlib/style/core.py:249\u001b[0m, in \u001b[0;36m<module>\u001b[0;34m\u001b[0m\n\u001b[1;32m    244\u001b[0m     \u001b[39mreturn\u001b[39;00m main_dict\n\u001b[1;32m    247\u001b[0m \u001b[39m# Load style library\u001b[39;00m\n\u001b[1;32m    248\u001b[0m \u001b[39m# ==================\u001b[39;00m\n\u001b[0;32m--> 249\u001b[0m _base_library \u001b[39m=\u001b[39m read_style_directory(BASE_LIBRARY_PATH)\n\u001b[1;32m    250\u001b[0m library \u001b[39m=\u001b[39m \u001b[39mNone\u001b[39;00m\n\u001b[1;32m    251\u001b[0m available \u001b[39m=\u001b[39m []\n",
      "File \u001b[0;32m~/opt/anaconda3/envs/app_qc/lib/python3.10/site-packages/matplotlib/style/core.py:226\u001b[0m, in \u001b[0;36mread_style_directory\u001b[0;34m(style_dir)\u001b[0m\n\u001b[1;32m    224\u001b[0m \u001b[39mfor\u001b[39;00m path \u001b[39min\u001b[39;00m Path(style_dir)\u001b[39m.\u001b[39mglob(\u001b[39mf\u001b[39m\u001b[39m\"\u001b[39m\u001b[39m*.\u001b[39m\u001b[39m{\u001b[39;00mSTYLE_EXTENSION\u001b[39m}\u001b[39;00m\u001b[39m\"\u001b[39m):\n\u001b[1;32m    225\u001b[0m     \u001b[39mwith\u001b[39;00m warnings\u001b[39m.\u001b[39mcatch_warnings(record\u001b[39m=\u001b[39m\u001b[39mTrue\u001b[39;00m) \u001b[39mas\u001b[39;00m warns:\n\u001b[0;32m--> 226\u001b[0m         styles[path\u001b[39m.\u001b[39mstem] \u001b[39m=\u001b[39m rc_params_from_file(\n\u001b[1;32m    227\u001b[0m             path, use_default_template\u001b[39m=\u001b[39;49m\u001b[39mFalse\u001b[39;49;00m)\n\u001b[1;32m    228\u001b[0m     \u001b[39mfor\u001b[39;00m w \u001b[39min\u001b[39;00m warns:\n\u001b[1;32m    229\u001b[0m         _log\u001b[39m.\u001b[39mwarning(\u001b[39m'\u001b[39m\u001b[39mIn \u001b[39m\u001b[39m%s\u001b[39;00m\u001b[39m: \u001b[39m\u001b[39m%s\u001b[39;00m\u001b[39m'\u001b[39m, path, w\u001b[39m.\u001b[39mmessage)\n",
      "File \u001b[0;32m~/opt/anaconda3/envs/app_qc/lib/python3.10/site-packages/matplotlib/__init__.py:862\u001b[0m, in \u001b[0;36mrc_params_from_file\u001b[0;34m(fname, fail_on_error, use_default_template)\u001b[0m\n\u001b[1;32m    847\u001b[0m \u001b[39mdef\u001b[39;00m \u001b[39mrc_params_from_file\u001b[39m(fname, fail_on_error\u001b[39m=\u001b[39m\u001b[39mFalse\u001b[39;00m, use_default_template\u001b[39m=\u001b[39m\u001b[39mTrue\u001b[39;00m):\n\u001b[1;32m    848\u001b[0m     \u001b[39m\"\"\"\u001b[39;00m\n\u001b[1;32m    849\u001b[0m \u001b[39m    Construct a `RcParams` from file *fname*.\u001b[39;00m\n\u001b[1;32m    850\u001b[0m \n\u001b[0;32m   (...)\u001b[0m\n\u001b[1;32m    860\u001b[0m \u001b[39m        parameters specified in the file. (Useful for updating dicts.)\u001b[39;00m\n\u001b[1;32m    861\u001b[0m \u001b[39m    \"\"\"\u001b[39;00m\n\u001b[0;32m--> 862\u001b[0m     config_from_file \u001b[39m=\u001b[39m _rc_params_in_file(fname, fail_on_error\u001b[39m=\u001b[39;49mfail_on_error)\n\u001b[1;32m    864\u001b[0m     \u001b[39mif\u001b[39;00m \u001b[39mnot\u001b[39;00m use_default_template:\n\u001b[1;32m    865\u001b[0m         \u001b[39mreturn\u001b[39;00m config_from_file\n",
      "File \u001b[0;32m~/opt/anaconda3/envs/app_qc/lib/python3.10/site-packages/matplotlib/__init__.py:804\u001b[0m, in \u001b[0;36m_rc_params_in_file\u001b[0;34m(fname, transform, fail_on_error)\u001b[0m\n\u001b[1;32m    802\u001b[0m key \u001b[39m=\u001b[39m key\u001b[39m.\u001b[39mstrip()\n\u001b[1;32m    803\u001b[0m val \u001b[39m=\u001b[39m val\u001b[39m.\u001b[39mstrip()\n\u001b[0;32m--> 804\u001b[0m \u001b[39mif\u001b[39;00m val\u001b[39m.\u001b[39;49mstartswith(\u001b[39m'\u001b[39;49m\u001b[39m\"\u001b[39;49m\u001b[39m'\u001b[39;49m) \u001b[39mand\u001b[39;00m val\u001b[39m.\u001b[39mendswith(\u001b[39m'\u001b[39m\u001b[39m\"\u001b[39m\u001b[39m'\u001b[39m):\n\u001b[1;32m    805\u001b[0m     val \u001b[39m=\u001b[39m val[\u001b[39m1\u001b[39m:\u001b[39m-\u001b[39m\u001b[39m1\u001b[39m]  \u001b[39m# strip double quotes\u001b[39;00m\n\u001b[1;32m    806\u001b[0m \u001b[39mif\u001b[39;00m key \u001b[39min\u001b[39;00m rc_temp:\n",
      "\u001b[0;31mKeyboardInterrupt\u001b[0m: "
     ]
    }
   ],
   "source": [
    "import pennylane as qml\n",
    "from timeit import default_timer as timer\n",
    "\n",
    "# To set the number of threads used when executing this script,\n",
    "# export the OMP_NUM_THREADS environment variable.\n",
    "\n",
    "# Choose number of qubits (wires) and circuit layers\n",
    "wires = 20\n",
    "layers = 3\n",
    "\n",
    "# Set number of runs for timing averaging\n",
    "num_runs = 5\n",
    "\n",
    "# Instantiate CPU (lightning.qubit) or GPU (lightning.gpu) device\n",
    "dev = qml.device('lightning.gpu', wires=wires)\n",
    "\n",
    "\n",
    "# Create QNode of device and circuit\n",
    "@qml.qnode(dev, diff_method=\"adjoint\")\n",
    "def circuit(parameters):\n",
    "    qml.StronglyEntanglingLayers(weights=parameters, wires=range(wires))\n",
    "    return [qml.expval(qml.PauliZ(i)) for i in range(wires)]\n",
    "\n",
    "# Set trainable parameters for calculating circuit Jacobian\n",
    "shape = qml.StronglyEntanglingLayers.shape(n_layers=layers, n_wires=wires)\n",
    "weights = qml.numpy.random.random(size=shape)\n",
    "\n",
    "# Run, calculate the quantum circuit Jacobian and average the timing results\n",
    "timing = []\n",
    "for t in range(num_runs):\n",
    "    start = timer()\n",
    "    jac = qml.jacobian(circuit)(weights)\n",
    "    end = timer()\n",
    "    timing.append(end - start)\n",
    "\n",
    "print(qml.numpy.mean(timing))\n"
   ]
  },
  {
   "cell_type": "code",
   "execution_count": 10,
   "metadata": {},
   "outputs": [
    {
     "name": "stdout",
     "output_type": "stream",
     "text": [
      "1\n",
      "[0.70710678+0.j 0.70710678+0.j]\n",
      "2\n",
      "[0.70710678+0.j 0.        +0.j 0.70710678+0.j 0.        +0.j]\n",
      "3\n",
      "[0.70710678+0.j 0.        +0.j 0.        +0.j 0.        +0.j\n",
      " 0.70710678+0.j 0.        +0.j 0.        +0.j 0.        +0.j]\n"
     ]
    }
   ],
   "source": [
    "import pennylane as qml\n",
    "import pennylane.numpy as np\n",
    "\n",
    "for i in range(1, 4):\n",
    "    dev = qml.device(\"default.qubit\", wires=i)\n",
    "    @qml.qnode(dev)\n",
    "    def circuit():\n",
    "        print(dev.num_wires)\n",
    "        qml.Hadamard(wires=0)\n",
    "        return qml.state()\n",
    "    print(circuit())"
   ]
  },
  {
   "cell_type": "code",
   "execution_count": null,
   "metadata": {},
   "outputs": [],
   "source": []
  }
 ],
 "metadata": {
  "kernelspec": {
   "display_name": "app_qc",
   "language": "python",
   "name": "python3"
  },
  "language_info": {
   "codemirror_mode": {
    "name": "ipython",
    "version": 3
   },
   "file_extension": ".py",
   "mimetype": "text/x-python",
   "name": "python",
   "nbconvert_exporter": "python",
   "pygments_lexer": "ipython3",
   "version": "3.10.4"
  },
  "orig_nbformat": 4,
  "vscode": {
   "interpreter": {
    "hash": "0e3523843f37ca99d0dcc63a69cb3738d5ce61a12c8d9fe46bc172358b7503f4"
   }
  }
 },
 "nbformat": 4,
 "nbformat_minor": 2
}
